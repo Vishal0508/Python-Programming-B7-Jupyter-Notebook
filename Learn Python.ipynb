{
  "nbformat": 4,
  "nbformat_minor": 0,
  "metadata": {
    "colab": {
      "name": "Untitled0.ipynb",
      "provenance": [],
      "authorship_tag": "ABX9TyNRl7p/p6cxz/5jjNe9BNvd",
      "include_colab_link": true
    },
    "kernelspec": {
      "name": "python3",
      "display_name": "Python 3"
    }
  },
  "cells": [
    {
      "cell_type": "markdown",
      "metadata": {
        "id": "view-in-github",
        "colab_type": "text"
      },
      "source": [
        "<a href=\"https://colab.research.google.com/github/Vishal0508/Python-Programming-B7-Jupyter-Notebook/blob/master/Learn%20Python.ipynb\" target=\"_parent\"><img src=\"https://colab.research.google.com/assets/colab-badge.svg\" alt=\"Open In Colab\"/></a>"
      ]
    },
    {
      "cell_type": "markdown",
      "metadata": {
        "id": "ReqyxPw1fI9H",
        "colab_type": "text"
      },
      "source": [
        "**Swapping The Values Of The Given Variables**"
      ]
    },
    {
      "cell_type": "code",
      "metadata": {
        "id": "MlGQkE-oeoE2",
        "colab_type": "code",
        "colab": {
          "base_uri": "https://localhost:8080/",
          "height": 109
        },
        "outputId": "a373dee7-a187-4469-e219-872b43ae77d4"
      },
      "source": [
        "a=input(\"Enter Value Of A=\")\n",
        "b=input(\"Enter Value Of B=\")\n",
        "c=a\n",
        "a=b\n",
        "b=c\n",
        "print()\n",
        "print(\"Swapped Value Of A Is\",a)\n",
        "print(\"Swapped Value Of B Is\",b)"
      ],
      "execution_count": 1,
      "outputs": [
        {
          "output_type": "stream",
          "text": [
            "Enter Value Of A=25\n",
            "Enter Value Of B=30\n",
            "\n",
            "Swapped Value Of A Is 30\n",
            "Swapped Value Of B Is 25\n"
          ],
          "name": "stdout"
        }
      ]
    },
    {
      "cell_type": "markdown",
      "metadata": {
        "id": "KO5itbZGfTY8",
        "colab_type": "text"
      },
      "source": [
        "**Calculating The Sum OF Given Numbers**"
      ]
    },
    {
      "cell_type": "code",
      "metadata": {
        "id": "RuXcFdoBe7KX",
        "colab_type": "code",
        "colab": {
          "base_uri": "https://localhost:8080/",
          "height": 90
        },
        "outputId": "8e30e820-af22-43ce-fdbc-89908948a693"
      },
      "source": [
        "number1=int(input(\"Enter First Number=\"))\n",
        "number2=int(input(\"Enter Second Number=\"))\n",
        "sum=number1+number2\n",
        "print(\" \")\n",
        "print(\"Sum Of The Number is\",sum)"
      ],
      "execution_count": 2,
      "outputs": [
        {
          "output_type": "stream",
          "text": [
            "Enter First Number=25\n",
            "Enter Second Number=30\n",
            " \n",
            "Sum Of The Number is 55\n"
          ],
          "name": "stdout"
        }
      ]
    },
    {
      "cell_type": "markdown",
      "metadata": {
        "id": "BBmpr682fdbf",
        "colab_type": "text"
      },
      "source": [
        "**Area Of Triangle**"
      ]
    },
    {
      "cell_type": "code",
      "metadata": {
        "id": "jhw3d_Tqfkft",
        "colab_type": "code",
        "colab": {
          "base_uri": "https://localhost:8080/",
          "height": 109
        },
        "outputId": "8351c6b9-9c53-4957-b145-1bcc7519da12"
      },
      "source": [
        "a=int(input(\"Enter First Side=\"))\n",
        "b=int(input(\"Enter Second Side=\"))\n",
        "c=int(input(\"Enter Third Side=\"))\n",
        "s=(a+b+c)/2\n",
        "area=(s*(s-a)*(s-b)*(s-c))**0.5\n",
        "print()\n",
        "print(\"Area Of The Given Triangle\",area)"
      ],
      "execution_count": 3,
      "outputs": [
        {
          "output_type": "stream",
          "text": [
            "Enter First Side=3\n",
            "Enter Second Side=4\n",
            "Enter Third Side=5\n",
            "\n",
            "Area Of The Given Triangle 6.0\n"
          ],
          "name": "stdout"
        }
      ]
    },
    {
      "cell_type": "markdown",
      "metadata": {
        "id": "cq9GL9ARfz99",
        "colab_type": "text"
      },
      "source": [
        "**Square Root**"
      ]
    },
    {
      "cell_type": "code",
      "metadata": {
        "id": "3hQSfm4Gf3HJ",
        "colab_type": "code",
        "colab": {
          "base_uri": "https://localhost:8080/",
          "height": 72
        },
        "outputId": "5df65586-c7a9-43e5-e5da-a7156046a02e"
      },
      "source": [
        "number=int(input(\"Enter The Number For Which Square Root Has To Be Calculated=\"))\n",
        "root=number**0.5\n",
        "print()\n",
        "print(\"Square Root Of Given Number Is\",root)"
      ],
      "execution_count": 5,
      "outputs": [
        {
          "output_type": "stream",
          "text": [
            "Enter The Number For Which Square Root Has To Be Calculated=400\n",
            "\n",
            "Square Root Of Given Number Is 20.0\n"
          ],
          "name": "stdout"
        }
      ]
    },
    {
      "cell_type": "markdown",
      "metadata": {
        "id": "-mbi6Z20gCir",
        "colab_type": "text"
      },
      "source": [
        "**Root Of Quadratic Equation**"
      ]
    },
    {
      "cell_type": "code",
      "metadata": {
        "id": "3Vc0nduBf5mJ",
        "colab_type": "code",
        "colab": {
          "base_uri": "https://localhost:8080/",
          "height": 146
        },
        "outputId": "2a5ae639-aada-4b4b-fa35-ecba398c5196"
      },
      "source": [
        "a=int(input(\"Enter The Coefficient of x^2=\"))\n",
        "b=int(input(\"Enter The Coefficient of x=\"))\n",
        "c=int(input(\"Enter The Constant Term=\"))\n",
        "discriminant=((b**2)-4*a*c)**0.5\n",
        "root1= (-b+discriminant)/(2*a)\n",
        "root2=(-b-discriminant)/(2*a)\n",
        "print()\n",
        "print(\"Roots Of Quadratic Equation Are:\")\n",
        "print(root1)\n",
        "print(root2)"
      ],
      "execution_count": 7,
      "outputs": [
        {
          "output_type": "stream",
          "text": [
            "Enter The Coefficient of x^2=1\n",
            "Enter The Coefficient of x=4\n",
            "Enter The Constant Term=4\n",
            "\n",
            "Roots Of Quadratic Equation Are:\n",
            "-2.0\n",
            "-2.0\n"
          ],
          "name": "stdout"
        }
      ]
    },
    {
      "cell_type": "markdown",
      "metadata": {
        "id": "u5opizhJh0bh",
        "colab_type": "text"
      },
      "source": [
        "**Convert Kilometres To Miles**"
      ]
    },
    {
      "cell_type": "code",
      "metadata": {
        "id": "fMYrMh44hlMn",
        "colab_type": "code",
        "colab": {
          "base_uri": "https://localhost:8080/",
          "height": 54
        },
        "outputId": "052f3a4d-5e87-42cc-b724-c345c4479a22"
      },
      "source": [
        "kilometre=int(input(\"Enter Distanc in Kilometres\"))\n",
        "miles=0.621371*kilometre\n",
        "print(\"Value of Distance in miles=\",miles)"
      ],
      "execution_count": 8,
      "outputs": [
        {
          "output_type": "stream",
          "text": [
            "Enter Distanc in Kilometres5\n",
            "Value of Distance in miles= 3.106855\n"
          ],
          "name": "stdout"
        }
      ]
    },
    {
      "cell_type": "markdown",
      "metadata": {
        "id": "ouPWmagHiWp6",
        "colab_type": "text"
      },
      "source": [
        "**Celcius To Farenheit**"
      ]
    },
    {
      "cell_type": "code",
      "metadata": {
        "id": "WgMZaDxqicm7",
        "colab_type": "code",
        "colab": {
          "base_uri": "https://localhost:8080/",
          "height": 54
        },
        "outputId": "ca0a7a29-46da-4cc9-f593-418b1e7d9d9a"
      },
      "source": [
        "celcius=int(input(\"Enter Temperature In Celcius=\"))\n",
        "farenheit=(celcius*1.8)+32\n",
        "print(\"Temperature in Farenheit is\",farenheit)"
      ],
      "execution_count": 9,
      "outputs": [
        {
          "output_type": "stream",
          "text": [
            "Enter Temperature In Celcius=98\n",
            "Temperature in Farenheit is 208.4\n"
          ],
          "name": "stdout"
        }
      ]
    },
    {
      "cell_type": "markdown",
      "metadata": {
        "id": "H7l0aVy7i2l9",
        "colab_type": "text"
      },
      "source": [
        "**Check If Given Number Is Positive Or Negative**"
      ]
    },
    {
      "cell_type": "code",
      "metadata": {
        "id": "gZtDbebljGtx",
        "colab_type": "code",
        "colab": {
          "base_uri": "https://localhost:8080/",
          "height": 54
        },
        "outputId": "17ee1d5f-4528-49ec-8d9d-2ba05423a45e"
      },
      "source": [
        "number=float(input(\"Enter A Number\"))\n",
        "if number>0:\n",
        "  print(number,\"Is Positive\")\n",
        "elif number<0:\n",
        "  print(number,\"Is Negative\")\n",
        "else:\n",
        "  print(\"Number Is Neither Positive Nor Negative\")"
      ],
      "execution_count": 13,
      "outputs": [
        {
          "output_type": "stream",
          "text": [
            "Enter A Number0\n",
            "Number Is Neither Positive Nor Negative\n"
          ],
          "name": "stdout"
        }
      ]
    },
    {
      "cell_type": "markdown",
      "metadata": {
        "id": "61bWMV4ajoVE",
        "colab_type": "text"
      },
      "source": [
        "**Check If Number Is Odd Or Even**"
      ]
    },
    {
      "cell_type": "code",
      "metadata": {
        "id": "AQPkJOZ0juX1",
        "colab_type": "code",
        "colab": {
          "base_uri": "https://localhost:8080/",
          "height": 54
        },
        "outputId": "7aa6e26a-9520-4e78-f624-a2c89aa82aa6"
      },
      "source": [
        "number=float(input(\"Enter A Number=\"))\n",
        "if number%2==0:\n",
        "  print(number,\"Is Even\")\n",
        "else:\n",
        "  print(number,\"Is Odd\")"
      ],
      "execution_count": 16,
      "outputs": [
        {
          "output_type": "stream",
          "text": [
            "Enter A Number=24\n",
            "24.0 Is Even\n"
          ],
          "name": "stdout"
        }
      ]
    },
    {
      "cell_type": "markdown",
      "metadata": {
        "id": "WqAmGuwhkDY6",
        "colab_type": "text"
      },
      "source": [
        "**Check If Year Is Leap Or Not**"
      ]
    },
    {
      "cell_type": "code",
      "metadata": {
        "id": "l2lfNcvvkKLU",
        "colab_type": "code",
        "colab": {
          "base_uri": "https://localhost:8080/",
          "height": 54
        },
        "outputId": "f6182590-8133-47a3-fcd7-f846dfb00d47"
      },
      "source": [
        "year=int(input(\"Enter The Year=\"))\n",
        "if (year%4)==0:\n",
        "  if (year%100)==0:\n",
        "    if (year%400)==0:\n",
        "      print(year,\"Is A Leap Year\")\n",
        "    else:\n",
        "      print(year,\"Is Not A Leap Year\")\n",
        "  else:\n",
        "    print(year,\"Is Not A Leap Year\")\n",
        "else:\n",
        "  print(year,\"Is Not A Leap Year\")\n",
        "\n",
        "\n"
      ],
      "execution_count": 22,
      "outputs": [
        {
          "output_type": "stream",
          "text": [
            "Enter The Year=2015\n",
            "2015 Is Not A Leap Year\n"
          ],
          "name": "stdout"
        }
      ]
    },
    {
      "cell_type": "markdown",
      "metadata": {
        "id": "qkAyoHnTl9Fj",
        "colab_type": "text"
      },
      "source": [
        "**Largest Number Among Three Inputs**"
      ]
    },
    {
      "cell_type": "code",
      "metadata": {
        "id": "mZ1_dcfvmFrn",
        "colab_type": "code",
        "colab": {
          "base_uri": "https://localhost:8080/",
          "height": 90
        },
        "outputId": "200f8089-4acb-4c37-b0c2-23d1e80a3f38"
      },
      "source": [
        "a=float(input(\"Enter 1st Number=\"))\n",
        "b=float(input(\"Enter 2nd Number=\"))\n",
        "c=float(input(\"Enter 3rd Number=\"))\n",
        "if a>b and a>c:\n",
        "  print(a,\"Is Largest\")\n",
        "elif b>a and b>c:\n",
        "  print(b,\"Is Largest\")\n",
        "elif c>a and c>b:\n",
        "  print(c,\"Is Largest\")\n",
        "else:\n",
        "  print(\"The Value Of Given Numbers Is Equal\")"
      ],
      "execution_count": 26,
      "outputs": [
        {
          "output_type": "stream",
          "text": [
            "Enter 1st Number=20\n",
            "Enter 2nd Number=20\n",
            "Enter 3rd Number=20\n",
            "The Value Of Given Numbers IS Equal\n"
          ],
          "name": "stdout"
        }
      ]
    },
    {
      "cell_type": "markdown",
      "metadata": {
        "id": "6URH2jMgncdB",
        "colab_type": "text"
      },
      "source": [
        "**Check If A Number Is Prime Or Not**"
      ]
    },
    {
      "cell_type": "code",
      "metadata": {
        "id": "CgwE7Sr-nkb0",
        "colab_type": "code",
        "colab": {
          "base_uri": "https://localhost:8080/",
          "height": 54
        },
        "outputId": "3df71156-b3ca-48ea-908a-d2450bd35abd"
      },
      "source": [
        "number=int(input(\"Enter A Number\"))\n",
        "if number>1:\n",
        "  for i in range(2,number):\n",
        "    if (number%i)==0:\n",
        "      print(number,\"Is Composite\")\n",
        "      break\n",
        "  else:\n",
        "    print(number,\"Is Prime\")"
      ],
      "execution_count": 32,
      "outputs": [
        {
          "output_type": "stream",
          "text": [
            "Enter A Number99\n",
            "99 Is Composite\n"
          ],
          "name": "stdout"
        }
      ]
    },
    {
      "cell_type": "markdown",
      "metadata": {
        "id": "dz2QJ5m3oSKF",
        "colab_type": "text"
      },
      "source": [
        "**Check Prime Number In A Given Interval**"
      ]
    },
    {
      "cell_type": "code",
      "metadata": {
        "id": "4px4HXm7oXuN",
        "colab_type": "code",
        "colab": {
          "base_uri": "https://localhost:8080/",
          "height": 366
        },
        "outputId": "ce502c21-0fc3-4172-8825-d4bd8bfbe8f0"
      },
      "source": [
        "for number in range(1,21):\n",
        "  if number>1:\n",
        "    for i in range(2,number):\n",
        "      if (number%i)==0:\n",
        "        print(number,\"Is Composite\")\n",
        "        break\n",
        "    else:\n",
        "      print(number,\"Is Prime\")"
      ],
      "execution_count": 34,
      "outputs": [
        {
          "output_type": "stream",
          "text": [
            "2 Is Prime\n",
            "3 Is Prime\n",
            "4 Is Composite\n",
            "5 Is Prime\n",
            "6 Is Composite\n",
            "7 Is Prime\n",
            "8 Is Composite\n",
            "9 Is Composite\n",
            "10 Is Composite\n",
            "11 Is Prime\n",
            "12 Is Composite\n",
            "13 Is Prime\n",
            "14 Is Composite\n",
            "15 Is Composite\n",
            "16 Is Composite\n",
            "17 Is Prime\n",
            "18 Is Composite\n",
            "19 Is Prime\n",
            "20 Is Composite\n"
          ],
          "name": "stdout"
        }
      ]
    },
    {
      "cell_type": "markdown",
      "metadata": {
        "id": "IiNHvBMYo8f9",
        "colab_type": "text"
      },
      "source": [
        "**Multiplication Table**"
      ]
    },
    {
      "cell_type": "code",
      "metadata": {
        "id": "hdB0fYewpBgV",
        "colab_type": "code",
        "colab": {
          "base_uri": "https://localhost:8080/",
          "height": 219
        },
        "outputId": "1e7c6a09-6f46-458a-e429-b20c1c4bf8d6"
      },
      "source": [
        "number=int(input(\"Number Whose Multiplication Table Is To Be Printed=\"))\n",
        "count=1\n",
        "while count<11:\n",
        "  print(number,\"X\",count,\"=\",number*count)\n",
        "  count+=1\n"
      ],
      "execution_count": 38,
      "outputs": [
        {
          "output_type": "stream",
          "text": [
            "Enter Number Whose Multiplication Table Is To Be Printed=12\n",
            "12 X 1 = 12\n",
            "12 X 2 = 24\n",
            "12 X 3 = 36\n",
            "12 X 4 = 48\n",
            "12 X 5 = 60\n",
            "12 X 6 = 72\n",
            "12 X 7 = 84\n",
            "12 X 8 = 96\n",
            "12 X 9 = 108\n",
            "12 X 10 = 120\n"
          ],
          "name": "stdout"
        }
      ]
    }
  ]
}