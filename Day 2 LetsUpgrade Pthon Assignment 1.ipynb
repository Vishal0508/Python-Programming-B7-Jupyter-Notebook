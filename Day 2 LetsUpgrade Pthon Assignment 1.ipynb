{
 "cells": [
  {
   "cell_type": "markdown",
   "metadata": {},
   "source": [
    "# Data Types"
   ]
  },
  {
   "cell_type": "code",
   "execution_count": null,
   "metadata": {},
   "outputs": [],
   "source": [
    "#int() Used to hold integer as a value\n",
    "#float() Used to hold decimal numbers\n",
    "#str() Used to hold characters\n",
    "#list() Holds different data types in it. Ex lst=[\"Vishal\",45,223.26,\"Srivastav\"]\n",
    "#dict() Data will have key instead of index\n",
    "#st() Sets are used for storing unique values\n",
    "#tup() Tuples are ordered immutable collection of objects. Ex- tup(\"vishal\",\"@\",\"LetsUpGrade.in\")\n",
    "#boolean- Value can be either true or false\n"
   ]
  },
  {
   "cell_type": "markdown",
   "metadata": {},
   "source": [
    "# List"
   ]
  },
  {
   "cell_type": "code",
   "execution_count": 1,
   "metadata": {},
   "outputs": [
    {
     "name": "stdout",
     "output_type": "stream",
     "text": [
      "['vishal', 25, 27.08, 'srivastav', 'bts']\n"
     ]
    }
   ],
   "source": [
    "#Creating a list\n",
    "lst=[\"vishal\",25,27.08,\"srivastav\"]\n",
    "\n",
    "#Addimg an element to a list\n",
    "lst.append(\"bts\")\n",
    "print(lst)\n"
   ]
  },
  {
   "cell_type": "code",
   "execution_count": 4,
   "metadata": {},
   "outputs": [
    {
     "data": {
      "text/plain": [
       "3"
      ]
     },
     "execution_count": 4,
     "metadata": {},
     "output_type": "execute_result"
    }
   ],
   "source": [
    "#indexing\n",
    "lst.index(\"srivastav\")"
   ]
  },
  {
   "cell_type": "code",
   "execution_count": 5,
   "metadata": {},
   "outputs": [
    {
     "name": "stdout",
     "output_type": "stream",
     "text": [
      "srivastav\n"
     ]
    }
   ],
   "source": [
    "#negative indexing\n",
    "print(lst[-2])"
   ]
  },
  {
   "cell_type": "code",
   "execution_count": 6,
   "metadata": {},
   "outputs": [
    {
     "name": "stdout",
     "output_type": "stream",
     "text": [
      "[25, 27.08, 'srivastav']\n"
     ]
    }
   ],
   "source": [
    "#slicing a list\n",
    "print(lst[1:4])"
   ]
  },
  {
   "cell_type": "code",
   "execution_count": 7,
   "metadata": {},
   "outputs": [
    {
     "name": "stdout",
     "output_type": "stream",
     "text": [
      "['vishal', 27, 27.08, 'srivastav', 'bts']\n"
     ]
    }
   ],
   "source": [
    "#change the item in the list\n",
    "lst[1]=27\n",
    "print(lst)"
   ]
  },
  {
   "cell_type": "code",
   "execution_count": 8,
   "metadata": {},
   "outputs": [
    {
     "name": "stdout",
     "output_type": "stream",
     "text": [
      "vishal\n",
      "27\n",
      "27.08\n",
      "srivastav\n",
      "bts\n"
     ]
    }
   ],
   "source": [
    "#loop through list\n",
    "for x in lst:\n",
    "    print(x)"
   ]
  },
  {
   "cell_type": "code",
   "execution_count": 9,
   "metadata": {},
   "outputs": [
    {
     "name": "stdout",
     "output_type": "stream",
     "text": [
      "yes,bts is in the list\n"
     ]
    }
   ],
   "source": [
    "#checking if item exist in the list ot not\n",
    "if \"bts\" in lst:\n",
    "    print(\"yes,bts is in the list\")"
   ]
  },
  {
   "cell_type": "code",
   "execution_count": 10,
   "metadata": {},
   "outputs": [
    {
     "name": "stdout",
     "output_type": "stream",
     "text": [
      "5\n"
     ]
    }
   ],
   "source": [
    "#finding the list length\n",
    "print(len(lst))"
   ]
  },
  {
   "cell_type": "code",
   "execution_count": 11,
   "metadata": {},
   "outputs": [
    {
     "name": "stdout",
     "output_type": "stream",
     "text": [
      "['vishal', 27, 27.08, 'srivastav', 'kook', 'bts']\n"
     ]
    }
   ],
   "source": [
    "#adding item to a specific index\n",
    "lst.insert(4,\"kook\")\n",
    "print(lst)"
   ]
  },
  {
   "cell_type": "code",
   "execution_count": 13,
   "metadata": {},
   "outputs": [
    {
     "name": "stdout",
     "output_type": "stream",
     "text": [
      "[27, 27.08, 'srivastav', 'kook', 'bts']\n"
     ]
    }
   ],
   "source": [
    "#removing specified item from a list\n",
    "lst.remove(\"vishal\")\n",
    "print(lst)"
   ]
  },
  {
   "cell_type": "code",
   "execution_count": 14,
   "metadata": {},
   "outputs": [
    {
     "name": "stdout",
     "output_type": "stream",
     "text": [
      "list has been deleted\n"
     ]
    }
   ],
   "source": [
    "#deleting the list\n",
    "del lst\n",
    "print(\"list has been deleted\")"
   ]
  },
  {
   "cell_type": "code",
   "execution_count": 16,
   "metadata": {},
   "outputs": [
    {
     "name": "stdout",
     "output_type": "stream",
     "text": [
      "['vishal', 'bts', 27.08, 45, 'kook']\n"
     ]
    }
   ],
   "source": [
    "#copying a list\n",
    "lst=[\"vishal\",\"bts\",27.08,45,\"kook\"]\n",
    "lst2=lst.copy()\n",
    "print(lst2)"
   ]
  },
  {
   "cell_type": "code",
   "execution_count": 17,
   "metadata": {},
   "outputs": [
    {
     "name": "stdout",
     "output_type": "stream",
     "text": [
      "['vishal', 'bts', 27.08, 45, 'kook', 'vishal', 'bts', 27.08, 45, 'kook']\n"
     ]
    }
   ],
   "source": [
    "#joining two lists\n",
    "list3=lst+lst2\n",
    "print(list3)"
   ]
  },
  {
   "cell_type": "code",
   "execution_count": 18,
   "metadata": {},
   "outputs": [
    {
     "name": "stdout",
     "output_type": "stream",
     "text": [
      "['kook', 45, 27.08, 'bts', 'vishal']\n"
     ]
    }
   ],
   "source": [
    "#reversing a list\n",
    "lst.reverse()\n",
    "print(lst)"
   ]
  },
  {
   "cell_type": "markdown",
   "metadata": {},
   "source": [
    "# Dictionary"
   ]
  },
  {
   "cell_type": "code",
   "execution_count": 24,
   "metadata": {},
   "outputs": [
    {
     "name": "stdout",
     "output_type": "stream",
     "text": [
      "{'name': 'vishal', 'age': '16', 'number': '564516843'}\n"
     ]
    }
   ],
   "source": [
    "dit={\"name\":\"vishal\",\"age\":\"16\",\"number\":\"564516843\"}\n",
    "print(dit)"
   ]
  },
  {
   "cell_type": "code",
   "execution_count": 29,
   "metadata": {},
   "outputs": [
    {
     "name": "stdout",
     "output_type": "stream",
     "text": [
      "vishal\n",
      "16\n"
     ]
    }
   ],
   "source": [
    "#accessing an item from dictionary\n",
    "x=dit[\"name\"]\n",
    "print(x)\n",
    "\n",
    "#get() method\n",
    "x=dit.get(\"age\")\n",
    "print(x)"
   ]
  },
  {
   "cell_type": "code",
   "execution_count": 30,
   "metadata": {},
   "outputs": [
    {
     "name": "stdout",
     "output_type": "stream",
     "text": [
      "{'name': 'vishal', 'age': 17, 'number': '564516843'}\n"
     ]
    }
   ],
   "source": [
    "#changing value of an item in  dictionary\n",
    "dit[\"age\"]=17\n",
    "print(dit)"
   ]
  },
  {
   "cell_type": "code",
   "execution_count": 33,
   "metadata": {},
   "outputs": [
    {
     "name": "stdout",
     "output_type": "stream",
     "text": [
      "name\n",
      "age\n",
      "number\n"
     ]
    }
   ],
   "source": [
    "#loop in dictionary\n",
    "dit={\n",
    "    \"name\":\"vishal\",\n",
    "    \"age\":\"16\",\n",
    "    \"number\":\"564516843\"\n",
    "}\n",
    "for x in dit:\n",
    "    print(x)\n"
   ]
  },
  {
   "cell_type": "code",
   "execution_count": 34,
   "metadata": {},
   "outputs": [
    {
     "name": "stdout",
     "output_type": "stream",
     "text": [
      "vishal\n",
      "16\n",
      "564516843\n"
     ]
    }
   ],
   "source": [
    "#printing value of items in a dictionary\n",
    "for x in dit.values():\n",
    "    print(x)"
   ]
  },
  {
   "cell_type": "code",
   "execution_count": 35,
   "metadata": {},
   "outputs": [
    {
     "name": "stdout",
     "output_type": "stream",
     "text": [
      "name vishal\n",
      "age 16\n",
      "number 564516843\n"
     ]
    }
   ],
   "source": [
    "#printing both keys and values\n",
    "for x,y in dit.items():\n",
    "    print(x,y)"
   ]
  },
  {
   "cell_type": "code",
   "execution_count": 36,
   "metadata": {},
   "outputs": [
    {
     "name": "stdout",
     "output_type": "stream",
     "text": [
      "Key exist in the list\n"
     ]
    }
   ],
   "source": [
    "#check if key exist or not\n",
    "if \"age\" in dit:\n",
    "    print(\"Key exist in the list\")\n",
    "    "
   ]
  },
  {
   "cell_type": "code",
   "execution_count": 37,
   "metadata": {},
   "outputs": [
    {
     "name": "stdout",
     "output_type": "stream",
     "text": [
      "3\n"
     ]
    }
   ],
   "source": [
    "#length of dictionary\n",
    "print(len(dit))"
   ]
  },
  {
   "cell_type": "code",
   "execution_count": 38,
   "metadata": {},
   "outputs": [
    {
     "name": "stdout",
     "output_type": "stream",
     "text": [
      "{'name': 'vishal', 'age': '16', 'number': '564516843', 'song': 'pop'}\n"
     ]
    }
   ],
   "source": [
    "#Adding item to a dictionary\n",
    "dit[\"song\"]=\"pop\"\n",
    "print(dit)"
   ]
  },
  {
   "cell_type": "code",
   "execution_count": 39,
   "metadata": {},
   "outputs": [
    {
     "name": "stdout",
     "output_type": "stream",
     "text": [
      "{'name': 'vishal', 'age': '16', 'song': 'pop'}\n"
     ]
    }
   ],
   "source": [
    "#removing item\n",
    "dit.pop(\"number\")\n",
    "print(dit)"
   ]
  },
  {
   "cell_type": "code",
   "execution_count": 40,
   "metadata": {},
   "outputs": [
    {
     "name": "stdout",
     "output_type": "stream",
     "text": [
      "dictionary has been cleared {}\n"
     ]
    }
   ],
   "source": [
    "#clearing the whole dictionary\n",
    "dit.clear()\n",
    "print(\"dictionary has been cleared\",dit)"
   ]
  },
  {
   "cell_type": "markdown",
   "metadata": {},
   "source": [
    "# Sets"
   ]
  },
  {
   "cell_type": "code",
   "execution_count": 41,
   "metadata": {},
   "outputs": [
    {
     "name": "stdout",
     "output_type": "stream",
     "text": [
      "{'apple', 'banana', 'grapes', 'cherry'}\n"
     ]
    }
   ],
   "source": [
    "sets={\"apple\",\"banana\",\"grapes\",\"cherry\"}\n",
    "print(sets)"
   ]
  },
  {
   "cell_type": "code",
   "execution_count": 42,
   "metadata": {},
   "outputs": [
    {
     "name": "stdout",
     "output_type": "stream",
     "text": [
      "apple\n",
      "banana\n",
      "grapes\n",
      "cherry\n"
     ]
    }
   ],
   "source": [
    "#loop and printing value\n",
    "for x in sets:\n",
    "    print(x)"
   ]
  },
  {
   "cell_type": "code",
   "execution_count": 44,
   "metadata": {},
   "outputs": [
    {
     "name": "stdout",
     "output_type": "stream",
     "text": [
      "True\n"
     ]
    }
   ],
   "source": [
    "#check if an item exist it the lsit or not\n",
    "print(\"cherry\" in sets)"
   ]
  },
  {
   "cell_type": "code",
   "execution_count": 45,
   "metadata": {},
   "outputs": [
    {
     "name": "stdout",
     "output_type": "stream",
     "text": [
      "{'cherry', 'watermelon', 'apple', 'banana', 'grapes'}\n"
     ]
    }
   ],
   "source": [
    "#adding items in a sets\n",
    "sets.add(\"watermelon\")\n",
    "print(sets)"
   ]
  },
  {
   "cell_type": "code",
   "execution_count": 48,
   "metadata": {},
   "outputs": [
    {
     "name": "stdout",
     "output_type": "stream",
     "text": [
      "{'cherry', 'orange', 'mango', 'apple', 'muskmelon', 'banana', 'grapes'}\n"
     ]
    }
   ],
   "source": [
    "#adding multiple items\n",
    "sets={\"apple\",\"banana\",\"grapes\",\"cherry\"}\n",
    "sets.update([\"muskmelon\",\"orange\",\"mango\"])\n",
    "print(sets)"
   ]
  },
  {
   "cell_type": "code",
   "execution_count": 49,
   "metadata": {},
   "outputs": [
    {
     "name": "stdout",
     "output_type": "stream",
     "text": [
      "7\n"
     ]
    }
   ],
   "source": [
    "#length of sets\n",
    "print(len(sets))"
   ]
  },
  {
   "cell_type": "code",
   "execution_count": 50,
   "metadata": {},
   "outputs": [
    {
     "name": "stdout",
     "output_type": "stream",
     "text": [
      "{'cherry', 'orange', 'mango', 'apple', 'muskmelon'}\n"
     ]
    }
   ],
   "source": [
    "#removing an item \n",
    "sets.remove(\"grapes\")\n",
    "sets.discard(\"banana\")\n",
    "print(sets)"
   ]
  },
  {
   "cell_type": "code",
   "execution_count": 52,
   "metadata": {},
   "outputs": [
    {
     "name": "stdout",
     "output_type": "stream",
     "text": [
      "orange\n",
      "{'mango', 'apple', 'muskmelon'}\n"
     ]
    }
   ],
   "source": [
    "#removing last item \n",
    "x=sets.pop()\n",
    "print(x)\n",
    "print(sets)"
   ]
  },
  {
   "cell_type": "code",
   "execution_count": 56,
   "metadata": {},
   "outputs": [
    {
     "name": "stdout",
     "output_type": "stream",
     "text": [
      "set has been deleted <class 'set'>\n"
     ]
    }
   ],
   "source": [
    "#clearing whole sets\n",
    "set={\"apple\",\"banana\",\"grapes\",\"cherry\"}\n",
    "del set\n",
    "print(\"set has been deleted\",set)"
   ]
  },
  {
   "cell_type": "code",
   "execution_count": 57,
   "metadata": {},
   "outputs": [
    {
     "name": "stdout",
     "output_type": "stream",
     "text": [
      "{'muskmelon', 'cherry', 'orange', 'mango', 'apple', 'banana', 'grapes'}\n"
     ]
    }
   ],
   "source": [
    "#joining two sets\n",
    "set1={\"apple\",\"banana\",\"grapes\",\"cherry\"}\n",
    "set2={\"muskmelon\",\"orange\",\"mango\"}\n",
    "set3=set1.union(set2)\n",
    "print(set3)"
   ]
  },
  {
   "cell_type": "code",
   "execution_count": 58,
   "metadata": {},
   "outputs": [
    {
     "name": "stdout",
     "output_type": "stream",
     "text": [
      "{'muskmelon', 'cherry', 'orange', 'mango', 'apple', 'banana', 'grapes'}\n"
     ]
    }
   ],
   "source": [
    "set1.update(set2)\n",
    "print(set1)"
   ]
  },
  {
   "cell_type": "markdown",
   "metadata": {},
   "source": [
    "# Tuple"
   ]
  },
  {
   "cell_type": "code",
   "execution_count": 59,
   "metadata": {},
   "outputs": [
    {
     "name": "stdout",
     "output_type": "stream",
     "text": [
      "('vishal', '@', 'letsupgrade.in')\n"
     ]
    }
   ],
   "source": [
    "tup=('vishal','@','letsupgrade.in')\n",
    "print(tup)"
   ]
  },
  {
   "cell_type": "code",
   "execution_count": 60,
   "metadata": {},
   "outputs": [
    {
     "name": "stdout",
     "output_type": "stream",
     "text": [
      "letsupgrade.in\n"
     ]
    }
   ],
   "source": [
    "#accesing item in tuple\n",
    "print(tup[2])"
   ]
  },
  {
   "cell_type": "code",
   "execution_count": 61,
   "metadata": {},
   "outputs": [
    {
     "name": "stdout",
     "output_type": "stream",
     "text": [
      "@\n"
     ]
    }
   ],
   "source": [
    "#negative indexing\n",
    "print(tup[-2])"
   ]
  },
  {
   "cell_type": "code",
   "execution_count": 62,
   "metadata": {},
   "outputs": [
    {
     "name": "stdout",
     "output_type": "stream",
     "text": [
      "('vishal', '@')\n"
     ]
    }
   ],
   "source": [
    "#range of items\n",
    "print(tup[0:2])"
   ]
  },
  {
   "cell_type": "code",
   "execution_count": 63,
   "metadata": {},
   "outputs": [
    {
     "name": "stdout",
     "output_type": "stream",
     "text": [
      "('apple', 'banana', 'mango', 'orange')\n"
     ]
    }
   ],
   "source": [
    "#changing tuple value\n",
    "tup=('apple','banana','grapes','orange')\n",
    "tup1=list(tup)\n",
    "tup1[2]='mango'\n",
    "tup=tuple(tup1)\n",
    "print(tup)"
   ]
  },
  {
   "cell_type": "code",
   "execution_count": 66,
   "metadata": {},
   "outputs": [
    {
     "name": "stdout",
     "output_type": "stream",
     "text": [
      "('apple', 'banana', 'mango', 'orange')\n",
      "('apple', 'banana', 'mango', 'orange')\n",
      "('apple', 'banana', 'mango', 'orange')\n",
      "('apple', 'banana', 'mango', 'orange')\n"
     ]
    }
   ],
   "source": [
    "#loop through a tuple\n",
    "for x in tup:\n",
    "    print(tup)"
   ]
  },
  {
   "cell_type": "code",
   "execution_count": 69,
   "metadata": {},
   "outputs": [
    {
     "name": "stdout",
     "output_type": "stream",
     "text": [
      "yes,'mango' is in the tuple\n"
     ]
    }
   ],
   "source": [
    "#check if a item exist\n",
    "if \"mango\" in tup:\n",
    "    print(\"yes,'mango' is in the tuple\")"
   ]
  },
  {
   "cell_type": "code",
   "execution_count": 70,
   "metadata": {},
   "outputs": [
    {
     "name": "stdout",
     "output_type": "stream",
     "text": [
      "4\n"
     ]
    }
   ],
   "source": [
    "#tuple length\n",
    "print(len(tup))"
   ]
  },
  {
   "cell_type": "markdown",
   "metadata": {},
   "source": [
    "# Operators"
   ]
  },
  {
   "cell_type": "code",
   "execution_count": 79,
   "metadata": {},
   "outputs": [],
   "source": [
    "# == used for equality\n",
    "# != not equal to\n",
    "# >,>= less than and less than equal to\n",
    "# <,<= greater than greater than equal to"
   ]
  },
  {
   "cell_type": "markdown",
   "metadata": {},
   "source": [
    "# Logical Operators"
   ]
  },
  {
   "cell_type": "code",
   "execution_count": null,
   "metadata": {},
   "outputs": [],
   "source": [
    "# And \n",
    "# Or \n",
    "# Not\n"
   ]
  }
 ],
 "metadata": {
  "kernelspec": {
   "display_name": "Python 3",
   "language": "python",
   "name": "python3"
  },
  "language_info": {
   "codemirror_mode": {
    "name": "ipython",
    "version": 3
   },
   "file_extension": ".py",
   "mimetype": "text/x-python",
   "name": "python",
   "nbconvert_exporter": "python",
   "pygments_lexer": "ipython3",
   "version": "3.6.11"
  }
 },
 "nbformat": 4,
 "nbformat_minor": 4
}
